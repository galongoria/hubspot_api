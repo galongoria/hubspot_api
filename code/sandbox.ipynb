{
 "cells": [
  {
   "cell_type": "code",
   "execution_count": 1,
   "id": "98c0875c",
   "metadata": {},
   "outputs": [],
   "source": [
    "import os, time, json\n",
    "import regex as re\n",
    "import pandas as pd\n",
    "from dotenv import load_dotenv\n",
    "from industry_grouping import startup_ind_main\n",
    "from read_companies import batch_read_companies\n",
    "from read_deals import get_deals_by_pipeline, list_deal_associations\n",
    "from bs4 import BeautifulSoup\n",
    "import requests\n",
    "\n",
    "load_dotenv()\n",
    "\n",
    "DBDIR = \"C:/Users/galon/Sputnik ATX Team Dropbox/Programming Datasets\"\n",
    "RAW_DIR = os.path.join(DBDIR, \"data\", \"raw\")\n",
    "CLEAN_DIR = os.path.join(DBDIR, \"data\", \"clean\")\n",
    "IND_DIR = os.path.join(CLEAN_DIR, \"industry_mapping\")\n",
    "\n",
    "\n",
    "VC_INDUSTRY_COLS = os.path.join(RAW_DIR, \"hs\", \"vc_industry_columns.csv\")\n",
    "STARTPATH = os.path.join(CLEAN_DIR, 'scraped_data', 'crunchbase', 'cb_startups_main.csv')\n",
    "INVPATH = os.path.join(CLEAN_DIR, 'scraped_data', 'crunchbase', 'cb_vc_main_merged.csv')\n",
    "MAPPING_OUTPATH = os.path.join(IND_DIR, \"cb_starts_mapped.csv\")\n",
    "START_HERF_PATH = os.path.join(CLEAN_DIR, 'scraped_data', 'crunchbase','cb_inv_overview_scraped.csv')\n",
    "VC_PATH = os.path.join(RAW_DIR, 'hs', 'vc_list_export.csv')\n",
    "# propose 397 each for first citizens"
   ]
  },
  {
   "cell_type": "code",
   "execution_count": 2,
   "id": "03103b41",
   "metadata": {
    "scrolled": true
   },
   "outputs": [],
   "source": [
    "# pd.set_option('display.max_colwidth', None)\n",
    "# pd.set_option('display.max_columns', 1000)\n",
    "# pd.set_option('display.max_rows', 50)\n",
    "# df = startup_ind_main()\n",
    "# def company_investments(df, id_, arg_list):\n",
    "\n",
    "#     print(len(df[df['id']==id_]))\n",
    "#     df = df[df['pf_inds'].str.contains('|'.join(arg_list))]\n",
    "#     return df[df['id']==id_]\n",
    "\n",
    "# def prelim(df):\n",
    "        \n",
    "#     num_specific = df.loc[df['pf_inds'].apply(lambda x: len(re.findall(';',str(x)))) == 1, :]\n",
    "#     ind_specific = df.loc[df['pf_inds'] == ';Mental Health', :]\n",
    "#     return ind_specific\n",
    "\n",
    "# company_investments(df, 9060201392, ['Fintech', 'Employment', 'Human Resources'])"
   ]
  },
  {
   "cell_type": "code",
   "execution_count": 25,
   "id": "6bbed49c",
   "metadata": {},
   "outputs": [],
   "source": [
    "# dict_list = get_deals_by_pipeline([], 'default')\n",
    "def get_company_associations(dict_list):\n",
    "    \n",
    "    for dictionary in dict_list:\n",
    "        \n",
    "        dictionary['associated_companies'] = [result.id for result in list_deal_associations(dictionary['hs_object_id'], 'company').results]\n",
    "    \n",
    "    return pd.DataFrame.from_dict(dict_list).explode('associated_companies').drop(['hs_lastmodifieddate', 'createdate'], axis=1).rename(columns={'hs_object_id':'deal_id'})\n",
    "    "
   ]
  },
  {
   "cell_type": "code",
   "execution_count": 26,
   "id": "19e9b540",
   "metadata": {},
   "outputs": [],
   "source": [
    "def get_contact_associations(dlist):\n",
    "    \n",
    "    for dictionary in dlist:\n",
    "        \n",
    "        dictionary['associated_contacts'] = [result.id for result in list_deal_associations(dictionary['hs_object_id'], 'contact').results]\n",
    "        \n",
    "    return pd.DataFrame.from_dict(dlist).explode('associated_contacts').drop(['hs_lastmodifieddate', 'createdate'], axis=1).rename(columns={'hs_object_id':'deal_id'})\n"
   ]
  },
  {
   "cell_type": "code",
   "execution_count": 32,
   "id": "aa69a560",
   "metadata": {},
   "outputs": [],
   "source": [
    "def merge_associations(dict_list, *args):\n",
    "    \n",
    "    for arg in args:\n",
    "        \n",
    "        if arg == 'company':\n",
    "            \n",
    "            df = get_company_associations(dict_list)\n",
    "            company_inputs = [{'id' : str(id_)} for id_ in list(df['associated_companies'].values)]\n",
    "            companies = batch_read_companies(['name', 'id'], [], None, company_inputs).results\n",
    "            company_list = [company.properties for company in companies]\n",
    "            company_df = pd.DataFrame.from_dict(company_list).drop(['hs_lastmodifieddate','createdate'],axis=1).rename(columns={'hs_object_id':'company_id'})\n",
    "            df = df.merge(company_df, how='left', left_on='associated_companies', right_on='company_id')\n",
    "        if arg == 'contact':\n",
    "            \n",
    "            df = get_contact_associations(dict_list)\n",
    "            contact_inputs = [{'id' : str(id_)} for id_ in list(df['associated_contacts'].values)]\n",
    "            contacts = batch_read_contacts(['firstname', 'lastname','email', 'id'], [], None, contact_inputs).results\n",
    "            contact_list = [contact.properties for contact in contacts]\n",
    "            contact_df = pd.DataFrame.from_dict(contact_list).drop(['hs_lastmodifieddate','createdate'],axis=1).rename(columns={'hs_object_id':'contact_id'})\n",
    "            df = df.merge(contact_df, how='left', left_on='associated_contacts', right_on='contact_id')\n",
    "            \n",
    "    return df"
   ]
  },
  {
   "cell_type": "code",
   "execution_count": 33,
   "id": "a28a6ea7",
   "metadata": {},
   "outputs": [
    {
     "name": "stdout",
     "output_type": "stream",
     "text": [
      "company\n",
      "contact\n"
     ]
    },
    {
     "ename": "NameError",
     "evalue": "name 'batch_read_contacts' is not defined",
     "output_type": "error",
     "traceback": [
      "\u001b[1;31m---------------------------------------------------------------------------\u001b[0m",
      "\u001b[1;31mNameError\u001b[0m                                 Traceback (most recent call last)",
      "Input \u001b[1;32mIn [33]\u001b[0m, in \u001b[0;36m<cell line: 1>\u001b[1;34m()\u001b[0m\n\u001b[1;32m----> 1\u001b[0m \u001b[43mmerge_associations\u001b[49m\u001b[43m(\u001b[49m\u001b[43mget_deals_by_pipeline\u001b[49m\u001b[43m(\u001b[49m\u001b[43m[\u001b[49m\u001b[43m]\u001b[49m\u001b[43m,\u001b[49m\u001b[43m \u001b[49m\u001b[38;5;124;43m'\u001b[39;49m\u001b[38;5;124;43mdefault\u001b[39;49m\u001b[38;5;124;43m'\u001b[39;49m\u001b[43m)\u001b[49m\u001b[43m,\u001b[49m\u001b[43m \u001b[49m\u001b[38;5;124;43m'\u001b[39;49m\u001b[38;5;124;43mcompany\u001b[39;49m\u001b[38;5;124;43m'\u001b[39;49m\u001b[43m,\u001b[49m\u001b[43m \u001b[49m\u001b[38;5;124;43m'\u001b[39;49m\u001b[38;5;124;43mcontact\u001b[39;49m\u001b[38;5;124;43m'\u001b[39;49m\u001b[43m)\u001b[49m\n",
      "Input \u001b[1;32mIn [32]\u001b[0m, in \u001b[0;36mmerge_associations\u001b[1;34m(dict_list, *args)\u001b[0m\n\u001b[0;32m     16\u001b[0m df \u001b[38;5;241m=\u001b[39m get_contact_associations(dict_list)\n\u001b[0;32m     17\u001b[0m contact_inputs \u001b[38;5;241m=\u001b[39m [{\u001b[38;5;124m'\u001b[39m\u001b[38;5;124mid\u001b[39m\u001b[38;5;124m'\u001b[39m : \u001b[38;5;28mstr\u001b[39m(id_)} \u001b[38;5;28;01mfor\u001b[39;00m id_ \u001b[38;5;129;01min\u001b[39;00m \u001b[38;5;28mlist\u001b[39m(df[\u001b[38;5;124m'\u001b[39m\u001b[38;5;124massociated_contacts\u001b[39m\u001b[38;5;124m'\u001b[39m]\u001b[38;5;241m.\u001b[39mvalues)]\n\u001b[1;32m---> 18\u001b[0m contacts \u001b[38;5;241m=\u001b[39m \u001b[43mbatch_read_contacts\u001b[49m([\u001b[38;5;124m'\u001b[39m\u001b[38;5;124mfirstname\u001b[39m\u001b[38;5;124m'\u001b[39m, \u001b[38;5;124m'\u001b[39m\u001b[38;5;124mlastname\u001b[39m\u001b[38;5;124m'\u001b[39m,\u001b[38;5;124m'\u001b[39m\u001b[38;5;124memail\u001b[39m\u001b[38;5;124m'\u001b[39m, \u001b[38;5;124m'\u001b[39m\u001b[38;5;124mid\u001b[39m\u001b[38;5;124m'\u001b[39m], [], \u001b[38;5;28;01mNone\u001b[39;00m, contact_inputs)\u001b[38;5;241m.\u001b[39mresults\n\u001b[0;32m     19\u001b[0m contact_list \u001b[38;5;241m=\u001b[39m [contact\u001b[38;5;241m.\u001b[39mproperties \u001b[38;5;28;01mfor\u001b[39;00m contact \u001b[38;5;129;01min\u001b[39;00m contacts]\n\u001b[0;32m     20\u001b[0m contact_df \u001b[38;5;241m=\u001b[39m pd\u001b[38;5;241m.\u001b[39mDataFrame\u001b[38;5;241m.\u001b[39mfrom_dict(contact_list)\u001b[38;5;241m.\u001b[39mdrop([\u001b[38;5;124m'\u001b[39m\u001b[38;5;124mhs_lastmodifieddate\u001b[39m\u001b[38;5;124m'\u001b[39m,\u001b[38;5;124m'\u001b[39m\u001b[38;5;124mcreatedate\u001b[39m\u001b[38;5;124m'\u001b[39m],axis\u001b[38;5;241m=\u001b[39m\u001b[38;5;241m1\u001b[39m)\u001b[38;5;241m.\u001b[39mrename(columns\u001b[38;5;241m=\u001b[39m{\u001b[38;5;124m'\u001b[39m\u001b[38;5;124mhs_object_id\u001b[39m\u001b[38;5;124m'\u001b[39m:\u001b[38;5;124m'\u001b[39m\u001b[38;5;124mcontact_id\u001b[39m\u001b[38;5;124m'\u001b[39m})\n",
      "\u001b[1;31mNameError\u001b[0m: name 'batch_read_contacts' is not defined"
     ]
    }
   ],
   "source": [
    "merge_associations(get_deals_by_pipeline([], 'default'), 'company', 'contact')"
   ]
  },
  {
   "cell_type": "code",
   "execution_count": null,
   "id": "3a00a3e2",
   "metadata": {},
   "outputs": [],
   "source": []
  }
 ],
 "metadata": {
  "kernelspec": {
   "display_name": "venv",
   "language": "python",
   "name": "venv"
  },
  "language_info": {
   "codemirror_mode": {
    "name": "ipython",
    "version": 3
   },
   "file_extension": ".py",
   "mimetype": "text/x-python",
   "name": "python",
   "nbconvert_exporter": "python",
   "pygments_lexer": "ipython3",
   "version": "3.10.4"
  }
 },
 "nbformat": 4,
 "nbformat_minor": 5
}
