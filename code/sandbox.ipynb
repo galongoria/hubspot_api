{
 "cells": [
  {
   "cell_type": "code",
   "execution_count": 4,
   "id": "98c0875c",
   "metadata": {},
   "outputs": [],
   "source": [
    "import os, time, json\n",
    "import regex as re\n",
    "import pandas as pd\n",
    "from dotenv import load_dotenv\n",
    "from industry_grouping import startup_ind_main\n",
    "from read_companies import batch_read_companies\n",
    "from read_deals import get_deals_by_pipeline, list_deal_associations\n",
    "from read_contacts import batch_read_contacts\n",
    "from bs4 import BeautifulSoup\n",
    "import requests\n",
    "load_dotenv()\n",
    "\n",
    "DBDIR = \"C:/Users/galon/Sputnik ATX Team Dropbox/Programming Datasets\"\n",
    "RAW_DIR = os.path.join(DBDIR, \"data\", \"raw\")\n",
    "CLEAN_DIR = os.path.join(DBDIR, \"data\", \"clean\")\n",
    "IND_DIR = os.path.join(CLEAN_DIR, \"industry_mapping\")\n",
    "\n",
    "\n",
    "VC_INDUSTRY_COLS = os.path.join(RAW_DIR, \"hs\", \"vc_industry_columns.csv\")\n",
    "STARTPATH = os.path.join(CLEAN_DIR, 'scraped_data', 'crunchbase', 'cb_startups_main.csv')\n",
    "INVPATH = os.path.join(CLEAN_DIR, 'scraped_data', 'crunchbase', 'cb_vc_main_merged.csv')\n",
    "MAPPING_OUTPATH = os.path.join(IND_DIR, \"cb_starts_mapped.csv\")\n",
    "START_HERF_PATH = os.path.join(CLEAN_DIR, 'scraped_data', 'crunchbase','cb_inv_overview_scraped.csv')\n",
    "VC_PATH = os.path.join(RAW_DIR, 'hs', 'vc_list_export.csv')\n",
    "# propose 397 each for first citizens\n",
    "# pd.set_option('display.max_colwidth', None)\n",
    "# pd.set_option('display.max_columns', 1000)\n",
    "# pd.set_option('display.max_rows', 50)"
   ]
  },
  {
   "cell_type": "code",
   "execution_count": null,
   "id": "3a00a3e2",
   "metadata": {},
   "outputs": [],
   "source": []
  }
 ],
 "metadata": {
  "kernelspec": {
   "display_name": "venv",
   "language": "python",
   "name": "venv"
  },
  "language_info": {
   "codemirror_mode": {
    "name": "ipython",
    "version": 3
   },
   "file_extension": ".py",
   "mimetype": "text/x-python",
   "name": "python",
   "nbconvert_exporter": "python",
   "pygments_lexer": "ipython3",
   "version": "3.10.4"
  }
 },
 "nbformat": 4,
 "nbformat_minor": 5
}
