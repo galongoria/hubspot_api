{
 "cells": [
  {
   "cell_type": "code",
   "execution_count": 1,
   "id": "70bda181",
   "metadata": {},
   "outputs": [],
   "source": [
    "from industry_grouping import startup_ind_main\n",
    "import pandas as pd\n",
    "df = startup_ind_main()\n",
    "\n",
    "pd.set_option('display.max_colwidth', None)\n",
    "pd.set_option('display.max_columns', 1000)\n",
    "pd.set_option('display.max_rows', 50)"
   ]
  },
  {
   "cell_type": "code",
   "execution_count": 2,
   "id": "0443c711",
   "metadata": {},
   "outputs": [],
   "source": [
    "def company_investments(df, id_, arg_list):\n",
    "\n",
    "    print(len(df[df['id']==id_]))\n",
    "    if arg_list:\n",
    "\n",
    "        df['pf_inds'] = df['pf_inds'].str.lower()\n",
    "        df = df[df['pf_inds'].str.contains('|'.join(arg_list))]             \n",
    "        return df[df['id']==id_]\n",
    "    else:\n",
    "        return df[df['id']==id_]"
   ]
  },
  {
   "cell_type": "code",
   "execution_count": 4,
   "id": "1f9f64b5",
   "metadata": {
    "scrolled": true
   },
   "outputs": [
    {
     "name": "stdout",
     "output_type": "stream",
     "text": [
      "0\n"
     ]
    },
    {
     "data": {
      "text/html": [
       "<div>\n",
       "<style scoped>\n",
       "    .dataframe tbody tr th:only-of-type {\n",
       "        vertical-align: middle;\n",
       "    }\n",
       "\n",
       "    .dataframe tbody tr th {\n",
       "        vertical-align: top;\n",
       "    }\n",
       "\n",
       "    .dataframe thead th {\n",
       "        text-align: right;\n",
       "    }\n",
       "</style>\n",
       "<table border=\"1\" class=\"dataframe\">\n",
       "  <thead>\n",
       "    <tr style=\"text-align: right;\">\n",
       "      <th></th>\n",
       "      <th>Unnamed: 0</th>\n",
       "      <th>only_investor</th>\n",
       "      <th>startup_href</th>\n",
       "      <th>startup</th>\n",
       "      <th>amount</th>\n",
       "      <th>stage</th>\n",
       "      <th>date</th>\n",
       "      <th>id</th>\n",
       "      <th>pf_inds</th>\n",
       "      <th>href</th>\n",
       "      <th>name</th>\n",
       "      <th>description</th>\n",
       "      <th>ref</th>\n",
       "    </tr>\n",
       "  </thead>\n",
       "  <tbody>\n",
       "  </tbody>\n",
       "</table>\n",
       "</div>"
      ],
      "text/plain": [
       "Empty DataFrame\n",
       "Columns: [Unnamed: 0, only_investor, startup_href, startup, amount, stage, date, id, pf_inds, href, name, description, ref]\n",
       "Index: []"
      ]
     },
     "execution_count": 4,
     "metadata": {},
     "output_type": "execute_result"
    }
   ],
   "source": [
    "company_investments(df, 9952897119, [\"software\", \"mental health\", \"health\"])"
   ]
  },
  {
   "cell_type": "code",
   "execution_count": 3,
   "id": "b9ff3ee7",
   "metadata": {},
   "outputs": [],
   "source": [
    "df.to_csv('startup_list.csv')"
   ]
  },
  {
   "cell_type": "code",
   "execution_count": null,
   "id": "e5393398",
   "metadata": {},
   "outputs": [],
   "source": []
  }
 ],
 "metadata": {
  "kernelspec": {
   "display_name": "Python 3 (ipykernel)",
   "language": "python",
   "name": "python3"
  },
  "language_info": {
   "codemirror_mode": {
    "name": "ipython",
    "version": 3
   },
   "file_extension": ".py",
   "mimetype": "text/x-python",
   "name": "python",
   "nbconvert_exporter": "python",
   "pygments_lexer": "ipython3",
   "version": "3.10.4"
  }
 },
 "nbformat": 4,
 "nbformat_minor": 5
}
